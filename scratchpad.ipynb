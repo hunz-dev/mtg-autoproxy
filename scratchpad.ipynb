{
 "cells": [
  {
   "cell_type": "markdown",
   "metadata": {},
   "source": [
    "# Main Commands"
   ]
  },
  {
   "cell_type": "markdown",
   "metadata": {},
   "source": [
    "## Fetch Images"
   ]
  },
  {
   "attachments": {},
   "cell_type": "markdown",
   "metadata": {},
   "source": [
    "### Download card images from Scryfall queries"
   ]
  },
  {
   "cell_type": "code",
   "execution_count": null,
   "metadata": {},
   "outputs": [],
   "source": [
    "from art_scan import process_query\n",
    "\n",
    "queries = [\n",
    "\n",
    "]\n",
    "\n",
    "force_scryfall = [\n",
    "\n",
    "]\n",
    "\n",
    "force_mtgpics = [\n",
    "\n",
    "]\n",
    "\n",
    "[process_query(q) for q in queries]\n",
    "[process_query(q, skip_mtgpics=True) for q in force_scryfall]\n",
    "[process_query(q, skip_scryfall=True) for q in force_mtgpics]"
   ]
  },
  {
   "cell_type": "markdown",
   "metadata": {},
   "source": [
    "## Fetch Set Symbols"
   ]
  },
  {
   "cell_type": "markdown",
   "metadata": {},
   "source": [
    "### Parse Keyrune website cheatsheet and print out UTF8 representation"
   ]
  },
  {
   "cell_type": "code",
   "execution_count": null,
   "metadata": {},
   "outputs": [],
   "source": [
    "from bs4 import BeautifulSoup\n",
    "import requests\n",
    "\n",
    "url = \"https://keyrune.andrewgioia.com/cheatsheet.html\"\n",
    "\n",
    "response = requests.get(url)\n",
    "soup = BeautifulSoup(response.content, \"html.parser\")\n",
    "set_symbol_spans = soup.findAll(\"span\", {\"class\": \"utf\"})\n",
    "print(f\"Found {len(set_symbol_spans)} icons.\")"
   ]
  },
  {
   "cell_type": "code",
   "execution_count": null,
   "metadata": {},
   "outputs": [],
   "source": [
    "set_symbols = {}\n",
    "for set_symbol_span in set_symbol_spans:\n",
    "    set_symbol = str(set_symbol_span.findChild(\"i\").get_text())\n",
    "    try:\n",
    "        set_code = set_symbol_span.get_text().split(\"ss-\")[1].split(\" \")[0].upper()\n",
    "    except IndexError as e:\n",
    "        continue\n",
    "    finally:\n",
    "        set_symbols[set_code] = set_symbol\n",
    "\n",
    "for set_code, set_symbol in set_symbols.items():\n",
    "    print(f\"\\\"{set_code}\\\": \\\"{set_symbol}\\\",\")"
   ]
  },
  {
   "cell_type": "markdown",
   "metadata": {},
   "source": [
    "## Inventory Management"
   ]
  },
  {
   "cell_type": "markdown",
   "metadata": {},
   "source": [
    "### Check for image files"
   ]
  },
  {
   "cell_type": "code",
   "execution_count": null,
   "metadata": {},
   "outputs": [],
   "source": [
    "from lib.helpers import os_helpers\n",
    "\n",
    "ART_FOLDER = \"C:/Users/evanh/My Drive/MTG/Proxies/art\"\n",
    "\n",
    "to_find = [\n",
    "    \"Crucible of Worlds\"\n",
    "]\n",
    "\n",
    "os_helpers.find_missing_files(ART_FOLDER, to_find)"
   ]
  },
  {
   "cell_type": "markdown",
   "metadata": {},
   "source": [
    "### Generate inventory as TSV"
   ]
  },
  {
   "cell_type": "code",
   "execution_count": null,
   "metadata": {},
   "outputs": [],
   "source": [
    "import operator\n",
    "from lib.classes import InventoryCard\n",
    "from lib.helpers import os_helpers, scryfall_helpers\n",
    "\n",
    "PROXY_FOLDER = \"C:/Users/evanh/My Drive/MTG/Proxies/mpc/all\"\n",
    "IGNORED_FILES = [\"desktop.ini\", \"inventory.tsv\", \"done\"]\n",
    "INVENTORY_FILE = \"C:/Users/evanh/My Drive/MTG/Proxies/mpc/inventory.tsv\"\n",
    "\n",
    "inventory_cards = []\n",
    "for file_name in os_helpers.list_files(PROXY_FOLDER, ignore=IGNORED_FILES):\n",
    "    print(file_name)\n",
    "    name = file_name[:file_name.index(\"(\")-1]\n",
    "    artist_set = file_name[file_name.index(\"(\")+1:file_name.index(\")\")]\n",
    "    artist, set_code = artist_set.split(\", \")\n",
    "    \n",
    "    try:\n",
    "        frame = file_name[file_name.index(\"[\")+1:file_name.index(\"]\")]\n",
    "    except ValueError:\n",
    "        frame = \"Normal\"\n",
    "    \n",
    "    scryfall_card = scryfall_helpers.get_named_card(name, set_code)\n",
    "    print(scryfall_card)\n",
    "    \n",
    "    inventory_card = InventoryCard(\n",
    "        name=name,\n",
    "        set_code=set_code,\n",
    "        artist=artist,\n",
    "        frame=frame,\n",
    "        type_=scryfall_card.type_alt,\n",
    "        modified=os_helpers.get_modified_date_utc(f\"{PROXY_FOLDER}/{file_name}\"),          \n",
    "    )\n",
    "    inventory_cards.append(inventory_card)\n",
    "\n",
    "# Sort inventory to match destination spreadsheet\n",
    "sorted_cards = sorted(inventory_cards, key=operator.itemgetter(\"type_\", \"name\"))\n",
    "\n",
    "# Write list of cards to TSV\n",
    "with open(INVENTORY_FILE, \"w\") as f:\n",
    "    for card in sorted_cards:\n",
    "        f.write(card.tsv + \"\\n\")\n",
    "    print(f\"Created inventory at: \\\"{INVENTORY_FILE}\\\"\")"
   ]
  },
  {
   "cell_type": "markdown",
   "metadata": {},
   "source": [
    "### Load decklist into inventory"
   ]
  },
  {
   "cell_type": "code",
   "execution_count": null,
   "metadata": {},
   "outputs": [],
   "source": [
    "import json\n",
    "from lib.classes import OrderCard\n",
    "\n",
    "orders = {\n",
    "    # \"Evan\": \"orders/evan.json\",\n",
    "    # \"Blake\": \"orders/blake.json\",\n",
    "    \"Matt\": \"orders/matt.json\",\n",
    "    # \"Scott\": \"orders/scott.json\",\n",
    "}\n",
    "\n",
    "for name, list_file in orders.items():\n",
    "    with open(list_file, \"r\") as f:\n",
    "        order_list = json.load(f)\n",
    "        [inventory.add_to_order(card) for card in OrderCard.import_list(order_list, name)]"
   ]
  },
  {
   "cell_type": "markdown",
   "metadata": {},
   "source": [
    "## Order Generation"
   ]
  },
  {
   "attachments": {},
   "cell_type": "markdown",
   "metadata": {},
   "source": [
    "### Pull proxy list from Google Sheets (public)"
   ]
  },
  {
   "cell_type": "code",
   "execution_count": null,
   "metadata": {},
   "outputs": [],
   "source": [
    "from lib import common\n",
    "from lib.classes import Inventory\n",
    "\n",
    "sheet_id = '1JbJy3kM34XUOPud4qPaAhp2luU0Qgidq4CPQVm0TTw0'\n",
    "url = f'https://docs.google.com/spreadsheet/ccc?key={sheet_id}&output=csv'\n",
    "\n",
    "proxy_csv_data = common.load_csv(url.format(sheet_id))\n",
    "inventory = Inventory.from_csv(proxy_csv_data)\n",
    "print(inventory)"
   ]
  },
  {
   "attachments": {},
   "cell_type": "markdown",
   "metadata": {},
   "source": [
    "### Pull proxy list from Google Sheets (private)"
   ]
  },
  {
   "cell_type": "code",
   "execution_count": null,
   "metadata": {},
   "outputs": [],
   "source": [
    "from googleapiclient import discovery\n",
    "from lib.google_auth import get_creds\n",
    "\n",
    "args = dict(\n",
    "    spreadsheetId='13ofTLZFmPMkT09Np2US8KF_JmTfgqdeQ5aeY16L43s0',\n",
    "    range='Inventory!A:L',\n",
    ")\n",
    "\n",
    "service = discovery.build('sheets', 'v4', credentials=get_creds())\n",
    "result = service.spreadsheets().values().get(**args).execute()\n",
    "proxy_csv_data = list(result.get('values', []))\n",
    "inventory = Inventory.from_csv(proxy_csv_data)\n",
    "print(inventory)"
   ]
  },
  {
   "attachments": {},
   "cell_type": "markdown",
   "metadata": {},
   "source": [
    "### Find missing proxy files"
   ]
  },
  {
   "cell_type": "code",
   "execution_count": null,
   "metadata": {},
   "outputs": [],
   "source": [
    "# TODO: Fix this now that proxies are not in subfolders\n",
    "\n",
    "from lib.helpers import os_helpers\n",
    "\n",
    "proxy_folder = \"C:/Users/evanh/My Drive/MTG/Proxies/mpc-ready\"\n",
    "\n",
    "card_types = list(set([p.type for p in proxies_to_print]))\n",
    "proxies_by_type = {\n",
    "    type_: [p for p in proxies_to_print if p.type == type_]\n",
    "    for type_ in card_types\n",
    "}\n",
    "\n",
    "missing_files = []\n",
    "for card_type in card_types:\n",
    "    folder_name = f\"{proxy_folder}/{card_type}\"\n",
    "    proxy_file_names = [p.name for p in proxies_by_type[card_type]]\n",
    "    missing_files += os_helpers.find_missing_files(folder_name, proxy_file_names)\n",
    "\n",
    "print(\"\\n\".join(missing_files))"
   ]
  },
  {
   "attachments": {},
   "cell_type": "markdown",
   "metadata": {},
   "source": [
    "### Write out files for order"
   ]
  },
  {
   "cell_type": "code",
   "execution_count": null,
   "metadata": {},
   "outputs": [],
   "source": [
    "proxies = [p for p in proxies_to_print if not p.is_mdfc]\n",
    "# proxies = [p for p in proxies_to_print if p.is_mdfc]\n",
    "len(proxies)"
   ]
  },
  {
   "cell_type": "code",
   "execution_count": null,
   "metadata": {},
   "outputs": [],
   "source": [
    "# TODO: Fix this now that proxies are not in subfolders\n",
    "\n",
    "from lib.helpers import inventory_helpers, os_helpers\n",
    "\n",
    "folder_size = 612\n",
    "prefix_name = \"proxies_{number:02d}\"\n",
    "landing_folder = \"C:/Users/evanh/Temp/landing\"\n",
    "output_folder = \"C:/Users/evanh/Temp/mpc\"\n",
    "proxy_folder = \"C:/Users/evanh/My Drive/MTG/Proxies/mpc-ready\"\n",
    "\n",
    "# Write all files out to landing zone\n",
    "missing, duplicates = inventory_helpers.create_unique_proxies(proxies, proxy_folder, landing_folder)\n",
    "if len(missing):\n",
    "    print(\"Missing:\\n\\t{}\".format('\\n\\t'.join([p.name for p in missing])))\n",
    "if len(duplicates):\n",
    "    print(\"Duplicates:\\n\\t{}\".format('\\n\\t'.join([p.name for p in duplicates])))\n",
    "\n",
    "# Move files into subfolders of fixed size (`folder_size`)\n",
    "output_folders = os_helpers.split_files(landing_folder, output_folder, folder_size, prefix_name)\n",
    "output_folders"
   ]
  },
  {
   "cell_type": "markdown",
   "metadata": {},
   "source": [
    "### Move proxy files"
   ]
  },
  {
   "cell_type": "code",
   "execution_count": null,
   "metadata": {},
   "outputs": [],
   "source": [
    "import os\n",
    "from lib.helpers import os_helpers\n",
    "\n",
    "art_folder = \"C:/Users/evanh/My Drive/MTG/Proxies/art\"\n",
    "proxy_folder = \"C:/Users/evanh/My Drive/MTG/Proxies/mpc-ready\"\n",
    "destination_folder = \"C:/Users/evanh/My Drive/MTG/Proxies/mpc\"\n",
    "\n",
    "ignored_files = [\n",
    "    \"desktop.ini\",\n",
    "    \"Custom\",\n",
    "    \"inventory.tsv\",\n",
    "]\n",
    "\n",
    "# Iterate through art files to hold details in memory\n",
    "art = {}\n",
    "for file_name in os_helpers.list_files(art_folder, ignore=ignored_files):\n",
    "    try:\n",
    "        name = file_name[:file_name.index(\"(\")-1]\n",
    "        artist = file_name[file_name.index(\"(\")+1:file_name.index(\")\")]\n",
    "        set_code = file_name[file_name.index(\"[\")+1:file_name.index(\"]\")]\n",
    "    except ValueError as e:\n",
    "        print(f\"Unable to parse {file_name}\")\n",
    "\n",
    "    # Store results in a list to handle cards that have multiple versions\n",
    "    if name not in art:\n",
    "        art[name] = [(artist, set_code)]\n",
    "    else:\n",
    "        art[name].append((artist, set_code))\n",
    "\n",
    "# Iterate through proxy files to rename & move them based on art files\n",
    "for typed_proxy_folder in os_helpers.list_files(proxy_folder, ignore=ignored_files, include_base=True):\n",
    "    # for original_proxy_file in os_helpers.list_files(typed_proxy_folder, ignore=ignored_files)[:3]:\n",
    "    for original_proxy_file in os_helpers.list_files(typed_proxy_folder, ignored_files):\n",
    "        # Extract attributes from proxy (if available)\n",
    "        file_extension = original_proxy_file.split(\".\")[-1]\n",
    "        proxy_file = \"\".join(\".\".join(original_proxy_file.split(\".\")[:-1]))  # Trim file extension\n",
    "\n",
    "        try:\n",
    "            proxy_artist = proxy_file[proxy_file.index(\"[\")+1:proxy_file.index(\"]\")]\n",
    "            proxy_file = proxy_file.replace(f\" [{proxy_artist}]\", \"\")\n",
    "        except ValueError:\n",
    "            proxy_artist = \"\"\n",
    "\n",
    "        try:\n",
    "            frame_type = proxy_file[proxy_file.index(\"(\")+1:proxy_file.index(\")\")]\n",
    "            proxy_file = proxy_file.replace(f\" ({frame_type})\", \"\")\n",
    "        except ValueError:\n",
    "            frame_type = \"\"\n",
    "\n",
    "        name = proxy_file  # If original file name had extras, try-except blocks would remove them\n",
    "\n",
    "        # Look up art\n",
    "        try:\n",
    "            versions = art[name]\n",
    "        except KeyError:\n",
    "            print(f\"Art not found for: {name}\")\n",
    "            continue\n",
    "        \n",
    "        # Process one to many tuples of (artist, set_code) associated with card name\n",
    "        if len(versions) == 1:\n",
    "            artist, set_code = versions[0]\n",
    "            new_file_name = f\"{name} ({artist}, {set_code}){' [' + frame_type + ']' if frame_type else ''}.{file_extension}\"\n",
    "            os.rename(f\"{typed_proxy_folder}/{original_proxy_file}\", f\"{destination_folder}/{new_file_name}\")\n",
    "        else:\n",
    "            print(f\"Multiple versions found: {versions}\")\n",
    "            continue"
   ]
  },
  {
   "cell_type": "markdown",
   "metadata": {},
   "source": [
    "# Debug Commands"
   ]
  },
  {
   "cell_type": "markdown",
   "metadata": {},
   "source": [
    "## Save card info to `card.json`"
   ]
  },
  {
   "cell_type": "code",
   "execution_count": null,
   "metadata": {},
   "outputs": [],
   "source": [
    "from scripts import get_card_info\n",
    "\n",
    "args = \"\\\"Angelic Accord\\\" \\\"M14\\\"\"\n",
    "get_card_info.main(args)"
   ]
  },
  {
   "cell_type": "markdown",
   "metadata": {},
   "source": [
    "## Scryfall"
   ]
  },
  {
   "cell_type": "markdown",
   "metadata": {},
   "source": [
    "### Get multiple cards"
   ]
  },
  {
   "cell_type": "code",
   "execution_count": null,
   "metadata": {},
   "outputs": [],
   "source": [
    "from lib.helpers import scryfall_helpers\n",
    "\n",
    "queries = [\n",
    "    \"Crucible of Worlds\",\n",
    "]\n",
    "\n",
    "for q in queries:\n",
    "    cards = scryfall_helpers.get_matched_cards(q)\n",
    "    [print(f\"\\t{repr(c)}\") for c in cards]"
   ]
  },
  {
   "cell_type": "markdown",
   "metadata": {},
   "source": [
    "### Get single card"
   ]
  },
  {
   "cell_type": "code",
   "execution_count": null,
   "metadata": {},
   "outputs": [],
   "source": [
    "from lib.helpers import scryfall_helpers\n",
    "\n",
    "queries = [\n",
    "    (\"Crucible of Worlds\", \"5DN\")\n",
    "]\n",
    "\n",
    "for name, set_code in queries:\n",
    "    card = scryfall_helpers.get_named_card(name, set_code)\n",
    "    print(repr(card))"
   ]
  },
  {
   "cell_type": "markdown",
   "metadata": {},
   "source": [
    "## MTGPICS.com"
   ]
  },
  {
   "cell_type": "markdown",
   "metadata": {},
   "source": [
    "### Find `gamerid`"
   ]
  },
  {
   "cell_type": "code",
   "execution_count": null,
   "metadata": {},
   "outputs": [],
   "source": [
    "from lib.helpers import mtgpics_helpers\n",
    "\n",
    "queries = [\n",
    "    \"Crucible of Worlds\",\n",
    "]\n",
    "\n",
    "for q in queries:\n",
    "    card_name, gamerid = mtgpics_helpers.get_gamerid(q)\n",
    "    print(f\"Found id [{gamerid}] for [{card_name}]\")"
   ]
  },
  {
   "cell_type": "markdown",
   "metadata": {},
   "source": [
    "### Find image versions by `gamerid`"
   ]
  },
  {
   "cell_type": "code",
   "execution_count": null,
   "metadata": {},
   "outputs": [],
   "source": [
    "from lib.helpers import mtgpics_helpers\n",
    "\n",
    "to_find = \"Crucible of Worlds\"\n",
    "card_name, gamerid = to_find, mtgpics_helpers.get_gamerid(to_find)\n",
    "versions = mtgpics_helpers.find_all_art_versions(card_name, gamerid)\n",
    "versions"
   ]
  },
  {
   "cell_type": "markdown",
   "metadata": {},
   "source": [
    "## Misc"
   ]
  },
  {
   "cell_type": "code",
   "execution_count": 1,
   "metadata": {},
   "outputs": [],
   "source": [
    "import requests_cache; requests_cache.install_cache()"
   ]
  },
  {
   "cell_type": "code",
   "execution_count": null,
   "metadata": {},
   "outputs": [],
   "source": [
    "test = \"hi\"\n",
    "test2 = \"sup\"\n",
    "f\"{test}/{f'{test2}'}\""
   ]
  }
 ],
 "metadata": {
  "kernelspec": {
   "display_name": "env",
   "language": "python",
   "name": "python3"
  },
  "language_info": {
   "codemirror_mode": {
    "name": "ipython",
    "version": 3
   },
   "file_extension": ".py",
   "mimetype": "text/x-python",
   "name": "python",
   "nbconvert_exporter": "python",
   "pygments_lexer": "ipython3",
   "version": "3.7.7"
  },
  "orig_nbformat": 4,
  "vscode": {
   "interpreter": {
    "hash": "15c7ff3fcc4aa4047bf6eca4e66b55cd0ecda7020ad54c7fc1b31e83da224f91"
   }
  }
 },
 "nbformat": 4,
 "nbformat_minor": 2
}
