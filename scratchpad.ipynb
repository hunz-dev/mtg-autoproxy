{
 "cells": [
  {
   "cell_type": "code",
   "execution_count": null,
   "metadata": {},
   "outputs": [],
   "source": [
    "from art_scan import process_query\n",
    "\n",
    "queries = [\n",
    "    \"Balefire Dragon\",\n",
    "]\n",
    "\n",
    "[process_query(q) for q in queries];"
   ]
  },
  {
   "cell_type": "code",
   "execution_count": null,
   "metadata": {},
   "outputs": [],
   "source": [
    "def parse_file_path(path : str):\n",
    "    tokens = path.split('.')\n",
    "    image_name = tokens[0] if len(tokens) <= 1 else '.'.join(tokens[:-1])\n",
    "    image_ext = tokens[-1]\n",
    "    return (image_name, image_ext)\n",
    "\n",
    "\n",
    "image_path = 'out\\Damn (Extended).png'\n",
    "image_name, image_ext = parse_file_path(image_path)\n",
    "\n",
    "image_file = open(image_path, 'rb').read()\n",
    "for i in range(5):    \n",
    "    alt_file_path = f'{image_name} [{i + 1}].{image_ext}'\n",
    "    with open(alt_file_path, 'wb') as alt_file:\n",
    "        alt_file.write(image_file + (i * b'\\0'))\n",
    "\n",
    "# CHECK\n",
    "# hashlib.md5(open(image_path, 'rb').read()).hexdigest()"
   ]
  },
  {
   "cell_type": "code",
   "execution_count": null,
   "metadata": {},
   "outputs": [],
   "source": [
    "from googleapiclient import discovery\n",
    "from lib.google_auth import get_creds\n",
    "\n",
    "INVENTORY_SHEETS_ID = '13ofTLZFmPMkT09Np2US8KF_JmTfgqdeQ5aeY16L43s0'\n",
    "INVENTORY_RANGE = 'Inventory!A:L'\n",
    "INVENTORY_COL_MAP = {\n",
    "    'Card': 0,\n",
    "    'Type': 1, \n",
    "    'Last Edited': 3, \n",
    "    'To Order': 11, \n",
    "}\n",
    "\n",
    "service = discovery.build('sheets', 'v4', credentials=get_creds())\n",
    "\n",
    "# Call the Sheets API\n",
    "sheets_args = dict(\n",
    "    spreadsheetId=INVENTORY_SHEETS_ID,\n",
    "    range=INVENTORY_RANGE,\n",
    ")\n",
    "result = service.spreadsheets().values().get(**sheets_args).execute()\n",
    "values = result.get('values', [])\n",
    "\n",
    "if not values:\n",
    "    print('No data found.')\n",
    "else:\n",
    "    card = values[4] \n",
    "    print(card[INVENTORY_COL_MAP['Card']])\n",
    "    print(card[INVENTORY_COL_MAP['Type']])\n",
    "    print(card[INVENTORY_COL_MAP['Last Edited']])\n",
    "    print(card[INVENTORY_COL_MAP['To Order']])"
   ]
  }
 ],
 "metadata": {
  "kernelspec": {
   "display_name": "env",
   "language": "python",
   "name": "python3"
  },
  "language_info": {
   "codemirror_mode": {
    "name": "ipython",
    "version": 3
   },
   "file_extension": ".py",
   "mimetype": "text/x-python",
   "name": "python",
   "nbconvert_exporter": "python",
   "pygments_lexer": "ipython3",
   "version": "3.7.7"
  },
  "orig_nbformat": 4,
  "vscode": {
   "interpreter": {
    "hash": "15c7ff3fcc4aa4047bf6eca4e66b55cd0ecda7020ad54c7fc1b31e83da224f91"
   }
  }
 },
 "nbformat": 4,
 "nbformat_minor": 2
}
