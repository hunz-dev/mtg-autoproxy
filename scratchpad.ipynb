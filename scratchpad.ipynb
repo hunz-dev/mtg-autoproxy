{
 "cells": [
  {
   "cell_type": "markdown",
   "metadata": {},
   "source": [
    "##### **Get Scryfall cards**"
   ]
  },
  {
   "cell_type": "code",
   "execution_count": null,
   "metadata": {},
   "outputs": [],
   "source": [
    "from art_scan import get_scryfall_cards\n",
    "\n",
    "queries = [\n",
    "    \"City of Brass\",\n",
    "]\n",
    "\n",
    "for q in queries:\n",
    "    cards = get_scryfall_cards(q)\n",
    "    [print(f\"\\t{repr(c)}\") for c in cards]"
   ]
  },
  {
   "cell_type": "markdown",
   "metadata": {},
   "source": [
    "##### **Check MTGPICS for images**"
   ]
  },
  {
   "cell_type": "code",
   "execution_count": null,
   "metadata": {},
   "outputs": [],
   "source": [
    "from art_scan import get_scryfall_cards, get_mtgpics_art_ids, save_mtgpics_image_alt\n",
    "\n",
    "queries = [\n",
    "    \"City of Brass\",\n",
    "]\n",
    "\n",
    "for q in queries:\n",
    "    cards = get_scryfall_cards(q)\n",
    "    print(f\"Found: {get_mtgpics_art_ids(cards)}\")"
   ]
  },
  {
   "attachments": {},
   "cell_type": "markdown",
   "metadata": {},
   "source": [
    "##### **Download card images from Scryfall queries**"
   ]
  },
  {
   "cell_type": "code",
   "execution_count": null,
   "metadata": {},
   "outputs": [],
   "source": [
    "from art_scan import process_query\n",
    "\n",
    "queries = [\n",
    "    \"Crucible of Worlds\"\n",
    "]\n",
    "\n",
    "[process_query(q) for q in queries]\n",
    "# [process_query(q, force_scryfall=True, skip_mtgpics=True) for q in queries]"
   ]
  },
  {
   "cell_type": "markdown",
   "metadata": {},
   "source": [
    "##### **Generate inventory to CSV**"
   ]
  },
  {
   "cell_type": "code",
   "execution_count": null,
   "metadata": {},
   "outputs": [],
   "source": [
    "from dataclasses import dataclass\n",
    "import os\n",
    "from lib import os_helpers\n",
    "\n",
    "\n",
    "@dataclass\n",
    "class InventoryCard:\n",
    "    name: str\n",
    "    modified: str\n",
    "    type_: str\n",
    "    \n",
    "    def __str__(self):\n",
    "        return f\"{self.name},{self.type_},{self.modified}\"\n",
    "\n",
    "\n",
    "proxy_folder = \"C:/Users/evanh/My Drive/MTG/Proxies/mpc-ready\"\n",
    "inventory_file_name = \"inventory.csv\"\n",
    "\n",
    "# Get all cards\n",
    "inventory_cards = []\n",
    "for card_type in os.listdir(proxy_folder):\n",
    "    # Skips any files (folders won't have periods)\n",
    "    if \".\" in card_type:\n",
    "        print(f\"Skipping file ({card_type})..\")\n",
    "        continue\n",
    "\n",
    "    typed_proxy_folder = f\"{proxy_folder}/{card_type}\"\n",
    "    for file_name in os.listdir(typed_proxy_folder):\n",
    "        card = InventoryCard(\n",
    "            name=\".\".join(file_name.split(\".\")[:-1]),  # Strip off file extension\n",
    "            modified=os_helpers.get_modified_date(f\"{typed_proxy_folder}/{file_name}\"),\n",
    "            type_=card_type\n",
    "        )\n",
    "        inventory_cards.append(card)\n",
    "\n",
    "# Write list of cards to CSV\n",
    "with open(f\"{proxy_folder}/{inventory_file_name}\", \"w\") as f:\n",
    "    for card in inventory_cards:\n",
    "        f.write(str(card) + \"\\n\")\n"
   ]
  },
  {
   "attachments": {},
   "cell_type": "markdown",
   "metadata": {},
   "source": [
    "##### **Pull Private Proxy List from Google Sheets**"
   ]
  },
  {
   "cell_type": "code",
   "execution_count": null,
   "metadata": {},
   "outputs": [],
   "source": [
    "from googleapiclient import discovery\n",
    "from lib.classes import Proxy\n",
    "from lib.google_auth import get_creds\n",
    "\n",
    "args = dict(\n",
    "    spreadsheetId='13ofTLZFmPMkT09Np2US8KF_JmTfgqdeQ5aeY16L43s0',\n",
    "    range='Inventory!A:L',\n",
    ")\n",
    "\n",
    "service = discovery.build('sheets', 'v4', credentials=get_creds())\n",
    "result = service.spreadsheets().values().get(**args).execute()\n",
    "proxy_csv_data = list(result.get('values', []))\n",
    "\n",
    "all_proxies = [Proxy.from_row(p) for p in proxy_csv_data[4:] if len(p[0]) > 0]\n",
    "proxies_to_print = [p for p in all_proxies if p.order_count > 0]\n",
    "len(proxies_to_print)"
   ]
  },
  {
   "attachments": {},
   "cell_type": "markdown",
   "metadata": {},
   "source": [
    "##### **Pull Public Proxy List from Google Sheets**"
   ]
  },
  {
   "cell_type": "code",
   "execution_count": null,
   "metadata": {},
   "outputs": [],
   "source": [
    "from lib.classes import Proxy\n",
    "from lib import common\n",
    "\n",
    "sheet_id = '1JbJy3kM34XUOPud4qPaAhp2luU0Qgidq4CPQVm0TTw0'\n",
    "url = f'https://docs.google.com/spreadsheet/ccc?key={sheet_id}&output=csv'\n",
    "\n",
    "proxy_csv_data = common.load_csv(url.format(sheet_id))\n",
    "\n",
    "all_proxies = [Proxy.from_row(p) for p in proxy_csv_data[4:] if len(p[0]) > 0]\n",
    "proxies_to_print = [p for p in all_proxies if p.order_count > 0]\n",
    "len(proxies_to_print)"
   ]
  },
  {
   "attachments": {},
   "cell_type": "markdown",
   "metadata": {},
   "source": [
    "##### **Find missing proxy files**"
   ]
  },
  {
   "cell_type": "code",
   "execution_count": null,
   "metadata": {},
   "outputs": [],
   "source": [
    "from lib import os_helpers\n",
    "\n",
    "proxy_folder = \"C:/Users/evanh/My Drive/MTG/Proxies/mpc-ready\"\n",
    "\n",
    "card_types = list(set([p.type for p in proxies_to_print]))\n",
    "proxies_by_type = {\n",
    "    type_: [p for p in proxies_to_print if p.type == type_]\n",
    "    for type_ in card_types\n",
    "}\n",
    "\n",
    "missing_files = []\n",
    "for card_type in card_types:\n",
    "    folder_name = f\"{proxy_folder}/{card_type}\"\n",
    "    proxy_file_names = [p.name for p in proxies_by_type[card_type]]\n",
    "    missing_files += os_helpers.find_missing_files(folder_name, proxy_file_names)\n",
    "\n",
    "print(\"\\n\".join(missing_files))"
   ]
  },
  {
   "attachments": {},
   "cell_type": "markdown",
   "metadata": {},
   "source": [
    "##### **Write out files for order**"
   ]
  },
  {
   "cell_type": "code",
   "execution_count": null,
   "metadata": {},
   "outputs": [],
   "source": [
    "proxies = [p for p in proxies_to_print if not p.is_mdfc]\n",
    "# proxies = [p for p in proxies_to_print if p.is_mdfc]\n",
    "len(proxies)"
   ]
  },
  {
   "cell_type": "code",
   "execution_count": null,
   "metadata": {},
   "outputs": [],
   "source": [
    "from lib import os_helpers, proxy_helpers\n",
    "import importlib\n",
    "\n",
    "importlib.reload(os_helpers)\n",
    "importlib.reload(proxy_helpers)\n",
    "\n",
    "folder_size = 612\n",
    "prefix_name = \"proxies_{number:02d}\"\n",
    "landing_folder = \"C:/Users/evanh/Temp/landing\"\n",
    "output_folder = \"C:/Users/evanh/Temp/mpc\"\n",
    "proxy_folder = \"C:/Users/evanh/My Drive/MTG/Proxies/mpc-ready\"\n",
    "\n",
    "# Write all files out to landing zone\n",
    "missing, duplicates = proxy_helpers.create_unique_proxies(proxies, proxy_folder, landing_folder)\n",
    "if len(missing):\n",
    "    print(\"Missing:\\n\\t{}\".format('\\n\\t'.join([p.name for p in missing])))\n",
    "if len(duplicates):\n",
    "    print(\"Duplicates:\\n\\t{}\".format('\\n\\t'.join([p.name for p in duplicates])))\n",
    "\n",
    "# Move files into subfolders of fixed size (`folder_size`)\n",
    "output_folders = os_helpers.split_files(landing_folder, output_folder, folder_size, prefix_name)\n",
    "output_folders"
   ]
  }
 ],
 "metadata": {
  "kernelspec": {
   "display_name": "env",
   "language": "python",
   "name": "python3"
  },
  "language_info": {
   "codemirror_mode": {
    "name": "ipython",
    "version": 3
   },
   "file_extension": ".py",
   "mimetype": "text/x-python",
   "name": "python",
   "nbconvert_exporter": "python",
   "pygments_lexer": "ipython3",
   "version": "3.7.7"
  },
  "orig_nbformat": 4,
  "vscode": {
   "interpreter": {
    "hash": "15c7ff3fcc4aa4047bf6eca4e66b55cd0ecda7020ad54c7fc1b31e83da224f91"
   }
  }
 },
 "nbformat": 4,
 "nbformat_minor": 2
}
