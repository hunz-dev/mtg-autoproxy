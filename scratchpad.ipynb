{
 "cells": [
  {
   "cell_type": "markdown",
   "metadata": {},
   "source": [
    "# Main Commands"
   ]
  },
  {
   "cell_type": "markdown",
   "metadata": {},
   "source": [
    "## Fetch Images"
   ]
  },
  {
   "attachments": {},
   "cell_type": "markdown",
   "metadata": {},
   "source": [
    "### Download card images from Scryfall queries"
   ]
  },
  {
   "cell_type": "code",
   "execution_count": null,
   "metadata": {},
   "outputs": [],
   "source": [
    "from art_scan import process_query\n",
    "\n",
    "queries = [\n",
    "    \"Crucible of Worlds\",\n",
    "]\n",
    "\n",
    "[process_query(q) for q in queries]\n",
    "# [process_query(q, skip_scryfall=True) for q in queries]\n",
    "# [process_query(q, skip_mtgpics=True) for q in queries]"
   ]
  },
  {
   "cell_type": "markdown",
   "metadata": {},
   "source": [
    "## Fetch Set Symbols"
   ]
  },
  {
   "cell_type": "markdown",
   "metadata": {},
   "source": [
    "### Parse Keyrune website cheatsheet and print out UTF8 representation"
   ]
  },
  {
   "cell_type": "code",
   "execution_count": null,
   "metadata": {},
   "outputs": [],
   "source": [
    "from bs4 import BeautifulSoup\n",
    "import requests\n",
    "\n",
    "url = \"https://keyrune.andrewgioia.com/cheatsheet.html\"\n",
    "\n",
    "response = requests.get(url)\n",
    "soup = BeautifulSoup(response.content, \"html.parser\")\n",
    "set_symbol_spans = soup.findAll(\"span\", {\"class\": \"utf\"})\n",
    "print(f\"Found {len(set_symbol_spans)} icons.\")"
   ]
  },
  {
   "cell_type": "code",
   "execution_count": null,
   "metadata": {},
   "outputs": [],
   "source": [
    "set_symbols = {}\n",
    "for set_symbol_span in set_symbol_spans:\n",
    "    set_symbol = str(set_symbol_span.findChild(\"i\").get_text())\n",
    "    try:\n",
    "        set_code = set_symbol_span.get_text().split(\"ss-\")[1].split(\" \")[0].upper()\n",
    "    except IndexError as e:\n",
    "        continue\n",
    "    finally:\n",
    "        set_symbols[set_code] = set_symbol\n",
    "\n",
    "for set_code, set_symbol in set_symbols.items():\n",
    "    print(f\"\\\"{set_code}\\\": \\\"{set_symbol}\\\",\")"
   ]
  },
  {
   "cell_type": "markdown",
   "metadata": {},
   "source": [
    "## Inventory Management"
   ]
  },
  {
   "cell_type": "markdown",
   "metadata": {},
   "source": [
    "### Check for image files"
   ]
  },
  {
   "cell_type": "code",
   "execution_count": null,
   "metadata": {},
   "outputs": [],
   "source": [
    "from lib.helpers import os_helpers\n",
    "\n",
    "ART_FOLDER = \"C:/Users/evanh/My Drive/MTG/Proxies/art\"\n",
    "\n",
    "to_find = [\n",
    "    \"Crucible of Worlds\"\n",
    "]\n",
    "\n",
    "os_helpers.find_missing_files(ART_FOLDER, to_find)"
   ]
  },
  {
   "cell_type": "markdown",
   "metadata": {},
   "source": [
    "### Generate inventory as TSV"
   ]
  },
  {
   "cell_type": "code",
   "execution_count": null,
   "metadata": {},
   "outputs": [],
   "source": [
    "import operator\n",
    "from lib.classes import InventoryCard\n",
    "from lib.helpers import os_helpers, scryfall_helpers\n",
    "\n",
    "PROXY_FOLDER = \"C:/Users/evanh/My Drive/MTG/Proxies/mpc-ready\"\n",
    "IGNORED_FILES = [\"desktop.ini\", \"inventory.tsv\", \"Custom\", \"MDFC\"]\n",
    "INVENTORY_FILE_NAME = \"inventory.tsv\"\n",
    "MDFC_FOLDER_NAME = \"MDFC\"\n",
    "\n",
    "# Process all normal cards first\n",
    "inventory_cards = []\n",
    "for card_type in os_helpers.list_files(PROXY_FOLDER, ignore=IGNORED_FILES):\n",
    "    typed_proxy_folder = f\"{PROXY_FOLDER}/{card_type}\"\n",
    "    for file_name in os_helpers.list_files(typed_proxy_folder, ignore=IGNORED_FILES):\n",
    "        card = InventoryCard(\n",
    "            name=\".\".join(file_name.split(\".\")[:-1]),  # Strip off file extension\n",
    "            modified=os_helpers.get_modified_date_utc(f\"{typed_proxy_folder}/{file_name}\"),\n",
    "            type_=card_type\n",
    "        )\n",
    "        inventory_cards.append(card)\n",
    "\n",
    "# Process MDFC card images as a single entry\n",
    "mdfc_proxy_folder = f\"{PROXY_FOLDER}/{MDFC_FOLDER_NAME}\"\n",
    "unique_mdfcs = dict()\n",
    "for file_name in os_helpers.list_files(mdfc_proxy_folder, ignore=IGNORED_FILES):\n",
    "    name = \".\".join(file_name.split(\".\")[:-1])  # Strip off file extension\n",
    "    modified = os_helpers.get_modified_date_utc(f\"{mdfc_proxy_folder}/{file_name}\")\n",
    "    card = scryfall_helpers.get_named_card(name)\n",
    "    \n",
    "    unique_mdfcs[card.name] = dict(modified=modified, type_=card.folder_name)\n",
    "\n",
    "# Generate list of unique MDFCs\n",
    "for card_name, details in unique_mdfcs.items():\n",
    "    card = InventoryCard(name=card_name, modified=details[\"modified\"], type_=details[\"type_\"])\n",
    "    inventory_cards.append(card)\n",
    "\n",
    "# Sort inventory to match destination spreadsheet\n",
    "sorted_cards = sorted(inventory_cards, key=operator.itemgetter(\"type_\", \"name\"))\n",
    "\n",
    "# Write list of cards to TSV\n",
    "inventory_file_path = f\"{PROXY_FOLDER}/{INVENTORY_FILE_NAME}\"\n",
    "with open(inventory_file_path, \"w\") as f:\n",
    "    for card in sorted_cards:\n",
    "        f.write(card.tsv + \"\\n\")\n",
    "    print(f\"Created inventory at: \\\"{inventory_file_path}\\\"\")"
   ]
  },
  {
   "cell_type": "markdown",
   "metadata": {},
   "source": [
    "### Load decklist into inventory"
   ]
  },
  {
   "cell_type": "code",
   "execution_count": 6,
   "metadata": {},
   "outputs": [
    {
     "name": "stdout",
     "output_type": "stream",
     "text": [
      "Searching Scryfall: \"Crucible of Worlds\"... \n",
      "Searching Scryfall: \"Sol Ring\"... \n",
      "Searching Scryfall: \"Crap\"... \n"
     ]
    },
    {
     "data": {
      "text/plain": [
       "[OrderCard(card=ScryfallCard(artist='Ron Spencer', card_faces=None, collector_number='303', color_identity=[], frame='2015', full_art=False, id='7f4893ef-f983-418b-b7a4-5f073c844545', image_uris={'small': 'https://cards.scryfall.io/small/front/7/f/7f4893ef-f983-418b-b7a4-5f073c844545.jpg?1673149345', 'normal': 'https://cards.scryfall.io/normal/front/7/f/7f4893ef-f983-418b-b7a4-5f073c844545.jpg?1673149345', 'large': 'https://cards.scryfall.io/large/front/7/f/7f4893ef-f983-418b-b7a4-5f073c844545.jpg?1673149345', 'png': 'https://cards.scryfall.io/png/front/7/f/7f4893ef-f983-418b-b7a4-5f073c844545.png?1673149345', 'art_crop': 'https://cards.scryfall.io/art_crop/front/7/f/7f4893ef-f983-418b-b7a4-5f073c844545.jpg?1673149345', 'border_crop': 'https://cards.scryfall.io/border_crop/front/7/f/7f4893ef-f983-418b-b7a4-5f073c844545.jpg?1673149345'}, layout='normal', name='Crucible of Worlds', oracle_id='33c722cf-b4bf-431f-aefd-ee96241a7fbf', rarity='mythic', scryfall_uri='https://scryfall.com/card/2x2/303/crucible-of-worlds?utm_source=api', set='2x2', set_name='Double Masters 2022', type_line='Artifact'), count=2),\n",
       " OrderCard(card=ScryfallCard(artist='Mike Bierek', card_faces=None, collector_number='233', color_identity=[], frame='future', full_art=False, id='d1d8d32d-ebb2-46c2-b909-b7f71d33159e', image_uris={'small': 'https://cards.scryfall.io/small/front/d/1/d1d8d32d-ebb2-46c2-b909-b7f71d33159e.jpg?1723010128', 'normal': 'https://cards.scryfall.io/normal/front/d/1/d1d8d32d-ebb2-46c2-b909-b7f71d33159e.jpg?1723010128', 'large': 'https://cards.scryfall.io/large/front/d/1/d1d8d32d-ebb2-46c2-b909-b7f71d33159e.jpg?1723010128', 'png': 'https://cards.scryfall.io/png/front/d/1/d1d8d32d-ebb2-46c2-b909-b7f71d33159e.png?1723010128', 'art_crop': 'https://cards.scryfall.io/art_crop/front/d/1/d1d8d32d-ebb2-46c2-b909-b7f71d33159e.jpg?1723010128', 'border_crop': 'https://cards.scryfall.io/border_crop/front/d/1/d1d8d32d-ebb2-46c2-b909-b7f71d33159e.jpg?1723010128'}, layout='normal', name='Sol Ring', oracle_id='6ad8011d-3471-4369-9d68-b264cc027487', rarity='uncommon', scryfall_uri='https://scryfall.com/card/mb2/233/sol-ring?utm_source=api', set='mb2', set_name='Mystery Booster 2', type_line='Artifact'), count=1),\n",
       " OrderCard(card=ScryfallCard(artist=None, card_faces=None, collector_number=None, color_identity=None, frame=None, full_art=None, id=None, image_uris=None, layout=None, name=None, oracle_id=None, rarity=None, scryfall_uri=None, set=None, set_name=None, type_line=None), count=1)]"
      ]
     },
     "execution_count": 6,
     "metadata": {},
     "output_type": "execute_result"
    }
   ],
   "source": [
    "from dataclasses import dataclass\n",
    "from typing import List, Tuple\n",
    "from lib import scryfall_helpers\n",
    "from lib.classes import ScryfallCard\n",
    "\n",
    "\n",
    "@dataclass\n",
    "class OrderCard:\n",
    "    card: ScryfallCard\n",
    "    count: int\n",
    "\n",
    "\n",
    "def import_order(cards: List[Tuple[str, str]]) -> List[OrderCard]:\n",
    "    \"\"\"Imports a list of card names and count as a list of `OrderCard`s.\n",
    "\n",
    "    Args:\n",
    "        cards (List[Tuple[str, str]]): 2D list of card names and counts.\n",
    "\n",
    "    Returns:\n",
    "        List[OrderCard]: List of `OrderCard` objects containing order.\n",
    "    \"\"\"\n",
    "    return [OrderCard(scryfall_helpers.get_named_card(card), count) for card, count in cards]\n",
    "\n",
    "\n",
    "def apply_order(sheet_id: str, cards: List[OrderCard]) -> bool:\n",
    "    \"\"\"Apply a numbered list of cards to a Google sheets-based inventory.\n",
    "\n",
    "    Parameters:\n",
    "        sheet_id (str): Google sheet identifier containing inventory\n",
    "        cards (List[OrderCard]): List of cards to order\n",
    "\n",
    "    Returns:\n",
    "        bool: Success flag\n",
    "    \"\"\"\n",
    "    # Load inventory (try private)\n",
    "    # Duplicate inventory sheet (precaution)\n",
    "    # Get column number based on name parameter\n",
    "    # Look up name in first column\n",
    "    # On multiple, pick the last one\n",
    "    # Set cell of user column and card row to desired count\n",
    "\n",
    "order_list = [\n",
    "    [\"Crucible of Worlds\", 2],\n",
    "    [\"Sol Ring\", 1],\n",
    "    [\"Crap\", 1],\n",
    "]\n",
    "\n",
    "import_order(order_list)"
   ]
  },
  {
   "cell_type": "markdown",
   "metadata": {},
   "source": [
    "## Order Generation"
   ]
  },
  {
   "attachments": {},
   "cell_type": "markdown",
   "metadata": {},
   "source": [
    "### Pull proxy list from Google Sheets (public)"
   ]
  },
  {
   "cell_type": "code",
   "execution_count": null,
   "metadata": {},
   "outputs": [],
   "source": [
    "from lib import common\n",
    "from lib.classes import Proxy\n",
    "\n",
    "sheet_id = '1JbJy3kM34XUOPud4qPaAhp2luU0Qgidq4CPQVm0TTw0'\n",
    "url = f'https://docs.google.com/spreadsheet/ccc?key={sheet_id}&output=csv'\n",
    "\n",
    "proxy_csv_data = common.load_csv(url.format(sheet_id))\n",
    "\n",
    "all_proxies = [Proxy.from_row(p) for p in proxy_csv_data[4:] if len(p[0]) > 0]\n",
    "proxies_to_print = [p for p in all_proxies if p.order_count > 0]\n",
    "len(proxies_to_print)"
   ]
  },
  {
   "attachments": {},
   "cell_type": "markdown",
   "metadata": {},
   "source": [
    "### Pull proxy list from Google Sheets (private)"
   ]
  },
  {
   "cell_type": "code",
   "execution_count": null,
   "metadata": {},
   "outputs": [],
   "source": [
    "from googleapiclient import discovery\n",
    "from lib.classes import Proxy\n",
    "from lib.google_auth import get_creds\n",
    "\n",
    "args = dict(\n",
    "    spreadsheetId='13ofTLZFmPMkT09Np2US8KF_JmTfgqdeQ5aeY16L43s0',\n",
    "    range='Inventory!A:L',\n",
    ")\n",
    "\n",
    "service = discovery.build('sheets', 'v4', credentials=get_creds())\n",
    "result = service.spreadsheets().values().get(**args).execute()\n",
    "proxy_csv_data = list(result.get('values', []))\n",
    "\n",
    "all_proxies = [Proxy.from_row(p) for p in proxy_csv_data[4:] if len(p[0]) > 0]\n",
    "proxies_to_print = [p for p in all_proxies if p.order_count > 0]\n",
    "len(proxies_to_print)"
   ]
  },
  {
   "attachments": {},
   "cell_type": "markdown",
   "metadata": {},
   "source": [
    "### Find missing proxy files"
   ]
  },
  {
   "cell_type": "code",
   "execution_count": null,
   "metadata": {},
   "outputs": [],
   "source": [
    "from lib.helpers import os_helpers\n",
    "\n",
    "proxy_folder = \"C:/Users/evanh/My Drive/MTG/Proxies/mpc-ready\"\n",
    "\n",
    "card_types = list(set([p.type for p in proxies_to_print]))\n",
    "proxies_by_type = {\n",
    "    type_: [p for p in proxies_to_print if p.type == type_]\n",
    "    for type_ in card_types\n",
    "}\n",
    "\n",
    "missing_files = []\n",
    "for card_type in card_types:\n",
    "    folder_name = f\"{proxy_folder}/{card_type}\"\n",
    "    proxy_file_names = [p.name for p in proxies_by_type[card_type]]\n",
    "    missing_files += os_helpers.find_missing_files(folder_name, proxy_file_names)\n",
    "\n",
    "print(\"\\n\".join(missing_files))"
   ]
  },
  {
   "attachments": {},
   "cell_type": "markdown",
   "metadata": {},
   "source": [
    "### Write out files for order"
   ]
  },
  {
   "cell_type": "code",
   "execution_count": null,
   "metadata": {},
   "outputs": [],
   "source": [
    "proxies = [p for p in proxies_to_print if not p.is_mdfc]\n",
    "# proxies = [p for p in proxies_to_print if p.is_mdfc]\n",
    "len(proxies)"
   ]
  },
  {
   "cell_type": "code",
   "execution_count": null,
   "metadata": {},
   "outputs": [],
   "source": [
    "from lib.helpers import os_helpers, proxy_helpers\n",
    "\n",
    "folder_size = 612\n",
    "prefix_name = \"proxies_{number:02d}\"\n",
    "landing_folder = \"C:/Users/evanh/Temp/landing\"\n",
    "output_folder = \"C:/Users/evanh/Temp/mpc\"\n",
    "proxy_folder = \"C:/Users/evanh/My Drive/MTG/Proxies/mpc-ready\"\n",
    "\n",
    "# Write all files out to landing zone\n",
    "missing, duplicates = proxy_helpers.create_unique_proxies(proxies, proxy_folder, landing_folder)\n",
    "if len(missing):\n",
    "    print(\"Missing:\\n\\t{}\".format('\\n\\t'.join([p.name for p in missing])))\n",
    "if len(duplicates):\n",
    "    print(\"Duplicates:\\n\\t{}\".format('\\n\\t'.join([p.name for p in duplicates])))\n",
    "\n",
    "# Move files into subfolders of fixed size (`folder_size`)\n",
    "output_folders = os_helpers.split_files(landing_folder, output_folder, folder_size, prefix_name)\n",
    "output_folders"
   ]
  },
  {
   "cell_type": "markdown",
   "metadata": {},
   "source": [
    "# Debug Commands"
   ]
  },
  {
   "cell_type": "markdown",
   "metadata": {},
   "source": [
    "## Save card info to `card.json`"
   ]
  },
  {
   "cell_type": "code",
   "execution_count": null,
   "metadata": {},
   "outputs": [],
   "source": [
    "from scripts import get_card_info\n",
    "\n",
    "args = \"\\\"Angelic Accord\\\" \\\"M14\\\"\"\n",
    "get_card_info.main(args)"
   ]
  },
  {
   "cell_type": "markdown",
   "metadata": {},
   "source": [
    "## Scryfall"
   ]
  },
  {
   "cell_type": "markdown",
   "metadata": {},
   "source": [
    "### Get multiple cards"
   ]
  },
  {
   "cell_type": "code",
   "execution_count": null,
   "metadata": {},
   "outputs": [],
   "source": [
    "from lib.helpers import scryfall_helpers\n",
    "\n",
    "queries = [\n",
    "    \"Crucible of Worlds\",\n",
    "]\n",
    "\n",
    "for q in queries:\n",
    "    cards = scryfall_helpers.get_matched_cards(q)\n",
    "    [print(f\"\\t{repr(c)}\") for c in cards]"
   ]
  },
  {
   "cell_type": "markdown",
   "metadata": {},
   "source": [
    "### Get single card"
   ]
  },
  {
   "cell_type": "code",
   "execution_count": null,
   "metadata": {},
   "outputs": [],
   "source": [
    "from lib.helpers import scryfall_helpers\n",
    "\n",
    "queries = [\n",
    "    \"Crucible of Worlds set=5dn\",\n",
    "]\n",
    "\n",
    "for q in queries:\n",
    "    card = scryfall_helpers.get_named_card(q)\n",
    "    print(repr(card))"
   ]
  },
  {
   "cell_type": "markdown",
   "metadata": {},
   "source": [
    "## MTGPICS.com"
   ]
  },
  {
   "cell_type": "markdown",
   "metadata": {},
   "source": [
    "### Find `gamerid`"
   ]
  },
  {
   "cell_type": "code",
   "execution_count": null,
   "metadata": {},
   "outputs": [],
   "source": [
    "from lib.helpers import mtgpics_helpers\n",
    "\n",
    "queries = [\n",
    "    \"Crucible of Worlds\",\n",
    "]\n",
    "\n",
    "for q in queries:\n",
    "    card_name, gamerid = mtgpics_helpers.get_gamerid(q)\n",
    "    print(f\"Found id [{gamerid}] for [{card_name}]\")"
   ]
  },
  {
   "cell_type": "markdown",
   "metadata": {},
   "source": [
    "### Find image versions by `gamerid`"
   ]
  },
  {
   "cell_type": "code",
   "execution_count": null,
   "metadata": {},
   "outputs": [],
   "source": [
    "from lib.helpers import mtgpics_helpers\n",
    "\n",
    "to_find = \"Crucible of Worlds\"\n",
    "card_name, gamerid = to_find, mtgpics_helpers.get_gamerid(to_find)\n",
    "versions = mtgpics_helpers.find_all_art_versions(card_name, gamerid)\n",
    "versions"
   ]
  },
  {
   "cell_type": "markdown",
   "metadata": {},
   "source": [
    "## Misc"
   ]
  },
  {
   "cell_type": "code",
   "execution_count": null,
   "metadata": {},
   "outputs": [],
   "source": []
  }
 ],
 "metadata": {
  "kernelspec": {
   "display_name": "env",
   "language": "python",
   "name": "python3"
  },
  "language_info": {
   "codemirror_mode": {
    "name": "ipython",
    "version": 3
   },
   "file_extension": ".py",
   "mimetype": "text/x-python",
   "name": "python",
   "nbconvert_exporter": "python",
   "pygments_lexer": "ipython3",
   "version": "3.7.7"
  },
  "orig_nbformat": 4,
  "vscode": {
   "interpreter": {
    "hash": "15c7ff3fcc4aa4047bf6eca4e66b55cd0ecda7020ad54c7fc1b31e83da224f91"
   }
  }
 },
 "nbformat": 4,
 "nbformat_minor": 2
}
