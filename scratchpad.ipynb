{
 "cells": [
  {
   "cell_type": "markdown",
   "metadata": {},
   "source": [
    "# Main Commands"
   ]
  },
  {
   "cell_type": "markdown",
   "metadata": {},
   "source": [
    "## Fetch Images"
   ]
  },
  {
   "attachments": {},
   "cell_type": "markdown",
   "metadata": {},
   "source": [
    "### Download card images from Scryfall queries"
   ]
  },
  {
   "cell_type": "code",
   "execution_count": null,
   "metadata": {},
   "outputs": [],
   "source": [
    "from art_scan import process_query\n",
    "\n",
    "queries = [\n",
    "]\n",
    "\n",
    "force_scryfall = [\n",
    "]\n",
    "\n",
    "force_mtgpics = [\n",
    "]\n",
    "\n",
    "[process_query(q) for q in queries]\n",
    "[process_query(q, skip_mtgpics=True) for q in force_scryfall]\n",
    "[process_query(q, skip_scryfall=True) for q in force_mtgpics]"
   ]
  },
  {
   "cell_type": "markdown",
   "metadata": {},
   "source": [
    "## Fetch Set Symbols"
   ]
  },
  {
   "cell_type": "markdown",
   "metadata": {},
   "source": [
    "### Parse Keyrune website cheatsheet and print out UTF8 representation"
   ]
  },
  {
   "cell_type": "code",
   "execution_count": null,
   "metadata": {},
   "outputs": [],
   "source": [
    "from bs4 import BeautifulSoup\n",
    "import requests\n",
    "\n",
    "url = \"https://keyrune.andrewgioia.com/cheatsheet.html\"\n",
    "\n",
    "response = requests.get(url)\n",
    "soup = BeautifulSoup(response.content, \"html.parser\")\n",
    "set_symbol_spans = soup.findAll(\"span\", {\"class\": \"utf\"})\n",
    "print(f\"Found {len(set_symbol_spans)} icons.\")"
   ]
  },
  {
   "cell_type": "code",
   "execution_count": null,
   "metadata": {},
   "outputs": [],
   "source": [
    "set_symbols = {}\n",
    "for set_symbol_span in set_symbol_spans:\n",
    "    set_symbol = str(set_symbol_span.findChild(\"i\").get_text())\n",
    "    try:\n",
    "        set_code = set_symbol_span.get_text().split(\"ss-\")[1].split(\" \")[0].upper()\n",
    "    except IndexError as e:\n",
    "        continue\n",
    "    finally:\n",
    "        set_symbols[set_code] = set_symbol\n",
    "\n",
    "for set_code, set_symbol in set_symbols.items():\n",
    "    print(f\"\\\"{set_code}\\\": \\\"{set_symbol}\\\",\")"
   ]
  },
  {
   "cell_type": "markdown",
   "metadata": {},
   "source": [
    "## Inventory Management"
   ]
  },
  {
   "cell_type": "markdown",
   "metadata": {},
   "source": [
    "### Check for image files"
   ]
  },
  {
   "cell_type": "code",
   "execution_count": null,
   "metadata": {},
   "outputs": [],
   "source": [
    "from lib.helpers import os_helpers\n",
    "\n",
    "ART_FOLDER = \"C:/Users/evanh/My Drive/Hobbies/MTG/Proxies/art\"\n",
    "\n",
    "to_find = [\n",
    "]\n",
    "\n",
    "missing_cards = os_helpers.find_missing_files(ART_FOLDER, to_find)\n",
    "missing_cards_str = \"\\n\".join([f\"\\t\\\"{card}\\\",\" for card in missing_cards])\n",
    "print(f\"Missing:\\n[\\n{missing_cards_str}\\n]\")"
   ]
  },
  {
   "cell_type": "markdown",
   "metadata": {},
   "source": [
    "### Generate inventory as TSV"
   ]
  },
  {
   "cell_type": "markdown",
   "metadata": {},
   "source": [
    "#### Load proxy image files as `InventoryCard`s"
   ]
  },
  {
   "cell_type": "code",
   "execution_count": 3,
   "metadata": {},
   "outputs": [
    {
     "name": "stdout",
     "output_type": "stream",
     "text": [
      "Searching Scryfall: \"Anara, Wolvid Familiar\"... Found: Anara, Wolvid Familiar (Jesper Ejsing) [CMR]\n",
      "Searching Scryfall: \"Chevill, Bane of Monsters\"... Found: Chevill, Bane of Monsters (Yongjae Choi) [IKO]\n",
      "Searching Scryfall: \"Explore\"... Found: Explore (John Avon) [OTC]\n",
      "Searching Scryfall: \"Forest\"... Found: Forest (Alayna Danner) [BLB]\n",
      "Searching Scryfall: \"Mountain\"... Found: Mountain (Samuele Bandini) [BLB]\n",
      "Searching Scryfall: \"Rin and Seri, Inseparable\"... Found: Rin and Seri, Inseparable (Leesha Hannigan) [M21]\n",
      "Searching Scryfall: \"Yoshimaru, Ever Faithful\"... Found: Yoshimaru, Ever Faithful (Ilse Gort) [NEC]\n"
     ]
    },
    {
     "data": {
      "text/plain": [
       "['Anara, Wolvid Familiar (Fenrir, the Mighty),PRX,Custom,Fullart,Creature,Green,2023-03-06T22:31:22Z,',\n",
       " 'Chevill, Bane of Monsters (Boba Fett, Bounty Hunter),PRX,Custom,Fullart,Creature,Multi,2024-08-27T15:39:08Z,',\n",
       " 'Explore,PRX,Custom,Extended,Sorcery,Green,2024-08-27T14:51:43Z,',\n",
       " 'Forest (Dog),PRX,Dall-E,Fullart,Land,Green,2023-03-06T22:05:58Z,',\n",
       " 'Mountain (Dog),PRX,Dall-E,Fullart,Land,Red,2023-03-06T22:13:37Z,',\n",
       " 'Rin and Seri, Inseparable (Kevin and Clark, Inseparable),PRX,Custom,Fullart,Creature,Multi,2023-03-06T22:35:00Z,',\n",
       " 'Yoshimaru, Ever Faithful (Ross, Never Forgotten),PRX,Custom,Fullart,Creature,White,2023-03-06T22:32:06Z,']"
      ]
     },
     "execution_count": 3,
     "metadata": {},
     "output_type": "execute_result"
    }
   ],
   "source": [
    "from lib.helpers import os_helpers, inventory_helpers\n",
    "\n",
    "PROXY_FOLDER = \"C:/Users/evanh/My Drive/Hobbies/MTG/Proxies/mpc/all\"\n",
    "TOKEN_FOLDER = \"C:/Users/evanh/My Drive/Hobbies/MTG/Proxies/mpc/tokens\"\n",
    "CUSTOM_FOLDER = \"C:/Users/evanh/My Drive/Hobbies/MTG/Proxies/mpc/custom\"\n",
    "IGNORED_FILES = [\"desktop.ini\", \"inventory.tsv\", \"fix\", \"done\", \"Josh's Bachelor Party\", \"LOTR\"]\n",
    "\n",
    "failed = []\n",
    "inventory_cards = []\n",
    "\n",
    "# Import \"normal\" cards\n",
    "for file_name in os_helpers.list_files(PROXY_FOLDER, ignore=IGNORED_FILES):\n",
    "    try:\n",
    "        inventory_cards.append(inventory_helpers.create_normal_inventory_card(file_name, PROXY_FOLDER))\n",
    "    except Exception as e:\n",
    "        print(f\"FAILURE: {e}\")\n",
    "        failed.append(file_name)\n",
    "\n",
    "# Import tokens\n",
    "for file_name in os_helpers.list_files(TOKEN_FOLDER, ignore=IGNORED_FILES):\n",
    "    try:\n",
    "        inventory_cards.append(inventory_helpers.create_token_inventory_card(file_name, TOKEN_FOLDER))\n",
    "    except Exception as e:\n",
    "        print(f\"FAILURE: {e}\")\n",
    "        failed.append(file_name)\n",
    "\n",
    "# Import custom cards\n",
    "for file_name in os_helpers.list_files(CUSTOM_FOLDER, ignore=IGNORED_FILES):\n",
    "    try:\n",
    "        inventory_cards.append(inventory_helpers.create_custom_inventory_card(file_name, CUSTOM_FOLDER))\n",
    "    except Exception as e:\n",
    "        print(f\"FAILURE: {e}\")\n",
    "        failed.append(file_name)\n",
    "\n",
    "if len(failed) > 0:\n",
    "    print(\"The following files were unable to be imported:\")\n",
    "    print(failed)\n",
    "\n",
    "[str(c) for c in inventory_cards]"
   ]
  },
  {
   "cell_type": "markdown",
   "metadata": {},
   "source": [
    "#### Sort and write cards to `.tsv` format"
   ]
  },
  {
   "cell_type": "code",
   "execution_count": null,
   "metadata": {},
   "outputs": [],
   "source": [
    "import operator\n",
    "\n",
    "INVENTORY_FILE = \"C:/Users/evanh/My Drive/Hobbies/MTG/Proxies/mpc/inventory.tsv\"\n",
    "\n",
    "# Sort inventory to match destination spreadsheet\n",
    "sorted_cards = sorted(inventory_cards, key=operator.itemgetter(\"type_\", \"name\"))\n",
    "\n",
    "# Write list of cards to TSV\n",
    "failed = []\n",
    "with open(INVENTORY_FILE, \"w\") as f:\n",
    "    for card in sorted_cards:\n",
    "        try:\n",
    "            f.write(card.tsv + \"\\n\")\n",
    "        except UnicodeEncodeError as e:\n",
    "            print(\"Unable to write card due to unsupported character.\")\n",
    "            print(e)\n",
    "            failed.append(card)\n",
    "             \n",
    "    print(f\"Created inventory at: \\\"{INVENTORY_FILE}\\\"\")\n",
    "\n",
    "if len(failed) > 0:\n",
    "    print(\"The following cards were unable to be written:\")\n",
    "    print([f.name for f in failed])"
   ]
  },
  {
   "cell_type": "markdown",
   "metadata": {},
   "source": [
    "### Load orders into inventory"
   ]
  },
  {
   "cell_type": "code",
   "execution_count": null,
   "metadata": {},
   "outputs": [],
   "source": [
    "import json5 as json\n",
    "from lib.classes import OrderCard\n",
    "\n",
    "orders = {\n",
    "    \"Evan\": \"orders/evan.json\",\n",
    "    \"Blake\": \"orders/blake.json\",\n",
    "    \"Matt\": \"orders/matt.json\",\n",
    "    \"Scott\": \"orders/scott.json\",\n",
    "}\n",
    "\n",
    "failed = []\n",
    "total = 0\n",
    "for name, list_file in orders.items():\n",
    "    with open(list_file, \"r\") as f:\n",
    "        order_list = json.load(f)\n",
    "\n",
    "        # Import decklist into a list of `OrderCard`s\n",
    "        try:\n",
    "            order_cards = OrderCard.import_list(order_list, name)\n",
    "        except ValueError as e:\n",
    "            print(f\"Unable to import {list_file}.\")\n",
    "            order_cards = []\n",
    "\n",
    "        # Add ordered cards to inventory counts\n",
    "        for card in order_cards:\n",
    "            try:\n",
    "                inventory.add_to_order(card)\n",
    "                total += card.count\n",
    "            except ValueError as e:\n",
    "                print(e)\n",
    "                print(f\"Unable to add card: {card.name}\")\n",
    "                failed.append(card)\n",
    "\n",
    "if len(failed) > 0:\n",
    "    failed_str = \"\\n\\t\".join([f\"{c.name}, {c.set_code.upper()}\" for c in failed])\n",
    "    print(f\"Failed cards:\\n\\t{failed_str}\")\n",
    "\n",
    "inventory_cards = inventory.cards  # To use in cell above to write out to TSV"
   ]
  },
  {
   "cell_type": "code",
   "execution_count": null,
   "metadata": {},
   "outputs": [],
   "source": [
    "total"
   ]
  },
  {
   "cell_type": "markdown",
   "metadata": {},
   "source": [
    "## Order Generation"
   ]
  },
  {
   "attachments": {},
   "cell_type": "markdown",
   "metadata": {},
   "source": [
    "### Pull inventory of proxies from Google Sheets (public)"
   ]
  },
  {
   "cell_type": "code",
   "execution_count": null,
   "metadata": {},
   "outputs": [],
   "source": [
    "from lib import common\n",
    "from lib.classes import Inventory\n",
    "\n",
    "sheet_id = '1JbJy3kM34XUOPud4qPaAhp2luU0Qgidq4CPQVm0TTw0'\n",
    "url = f'https://docs.google.com/spreadsheet/ccc?key={sheet_id}&output=csv'\n",
    "\n",
    "proxy_csv_data = common.load_csv(url.format(sheet_id))\n",
    "inventory = Inventory.from_csv(proxy_csv_data)\n",
    "print(inventory)"
   ]
  },
  {
   "attachments": {},
   "cell_type": "markdown",
   "metadata": {},
   "source": [
    "### Pull inventory of proxies from  Google Sheets (private)"
   ]
  },
  {
   "cell_type": "code",
   "execution_count": null,
   "metadata": {},
   "outputs": [],
   "source": [
    "from googleapiclient import discovery\n",
    "from lib.google_auth import get_creds\n",
    "\n",
    "args = dict(\n",
    "    spreadsheetId='13ofTLZFmPMkT09Np2US8KF_JmTfgqdeQ5aeY16L43s0',\n",
    "    range='Inventory!A:L',\n",
    ")\n",
    "\n",
    "service = discovery.build('sheets', 'v4', credentials=get_creds())\n",
    "result = service.spreadsheets().values().get(**args).execute()\n",
    "proxy_csv_data = list(result.get('values', []))\n",
    "inventory = Inventory.from_csv(proxy_csv_data)\n",
    "print(inventory)"
   ]
  },
  {
   "attachments": {},
   "cell_type": "markdown",
   "metadata": {},
   "source": [
    "### Write out files for order"
   ]
  },
  {
   "cell_type": "code",
   "execution_count": null,
   "metadata": {},
   "outputs": [],
   "source": [
    "proxies = [p for p in proxies_to_print if not p.is_mdfc]\n",
    "# proxies = [p for p in proxies_to_print if p.is_mdfc]\n",
    "len(proxies)"
   ]
  },
  {
   "cell_type": "code",
   "execution_count": null,
   "metadata": {},
   "outputs": [],
   "source": [
    "# TODO: Fix this now that proxies are not in subfolders\n",
    "\n",
    "from lib.helpers import inventory_helpers, os_helpers\n",
    "\n",
    "folder_size = 612\n",
    "prefix_name = \"proxies_{number:02d}\"\n",
    "landing_folder = \"C:/Users/evanh/Temp/landing\"\n",
    "output_folder = \"C:/Users/evanh/Temp/mpc\"\n",
    "proxy_folder = \"C:/Users/evanh/My Drive/Hobbies/MTG/Proxies/mpc-ready\"\n",
    "\n",
    "# Write all files out to landing zone\n",
    "missing, duplicates = inventory_helpers.create_unique_proxies(proxies, proxy_folder, landing_folder)\n",
    "if len(missing):\n",
    "    print(\"Missing:\\n\\t{}\".format('\\n\\t'.join([p.name for p in missing])))\n",
    "if len(duplicates):\n",
    "    print(\"Duplicates:\\n\\t{}\".format('\\n\\t'.join([p.name for p in duplicates])))\n",
    "\n",
    "# Move files into subfolders of fixed size (`folder_size`)\n",
    "output_folders = os_helpers.split_files(landing_folder, output_folder, folder_size, prefix_name)\n",
    "output_folders"
   ]
  },
  {
   "cell_type": "markdown",
   "metadata": {},
   "source": [
    "### Move proxy files"
   ]
  },
  {
   "cell_type": "code",
   "execution_count": null,
   "metadata": {},
   "outputs": [],
   "source": [
    "import os\n",
    "from lib.helpers import os_helpers\n",
    "\n",
    "art_folder = \"C:/Users/evanh/My Drive/Hobbies/Hobbies/MTG/Proxies/mpc/art\"\n",
    "proxy_folder = \"C:/Users/evanh/My Drive/Hobbies/MTG/Hobbies/Proxies/mpc-ready\"\n",
    "destination_folder = \"C:/Users/evanh/My Drive/MTG/Hobbies/Proxies/mpc/all\"\n",
    "\n",
    "ignored_files = [\n",
    "    \"desktop.ini\",\n",
    "    \"Custom\",\n",
    "    \"inventory.tsv\",\n",
    "]\n",
    "\n",
    "# Iterate through art files to hold details in memory\n",
    "art = {}\n",
    "for file_name in os_helpers.list_files(art_folder, ignore=ignored_files):\n",
    "    try:\n",
    "        name = file_name[:file_name.index(\"(\")-1]\n",
    "        artist = file_name[file_name.index(\"(\")+1:file_name.index(\")\")]\n",
    "        set_code = file_name[file_name.index(\"[\")+1:file_name.index(\"]\")]\n",
    "    except ValueError as e:\n",
    "        print(f\"Unable to parse {file_name}\")\n",
    "\n",
    "    # Store results in a list to handle cards that have multiple versions\n",
    "    if name not in art:\n",
    "        art[name] = [(artist, set_code)]\n",
    "    else:\n",
    "        art[name].append((artist, set_code))\n",
    "\n",
    "# Iterate through proxy files to rename & move them based on art files\n",
    "for typed_proxy_folder in os_helpers.list_files(proxy_folder, ignore=ignored_files, include_base=True):\n",
    "    # for original_proxy_file in os_helpers.list_files(typed_proxy_folder, ignore=ignored_files)[:3]:\n",
    "    for original_proxy_file in os_helpers.list_files(typed_proxy_folder, ignored_files):\n",
    "        # Extract attributes from proxy (if available)\n",
    "        file_extension = original_proxy_file.split(\".\")[-1]\n",
    "        proxy_file = \"\".join(\".\".join(original_proxy_file.split(\".\")[:-1]))  # Trim file extension\n",
    "\n",
    "        try:\n",
    "            proxy_artist = proxy_file[proxy_file.index(\"[\")+1:proxy_file.index(\"]\")]\n",
    "            proxy_file = proxy_file.replace(f\" [{proxy_artist}]\", \"\")\n",
    "        except ValueError:\n",
    "            proxy_artist = \"\"\n",
    "\n",
    "        try:\n",
    "            frame_type = proxy_file[proxy_file.index(\"(\")+1:proxy_file.index(\")\")]\n",
    "            proxy_file = proxy_file.replace(f\" ({frame_type})\", \"\")\n",
    "        except ValueError:\n",
    "            frame_type = \"\"\n",
    "\n",
    "        name = proxy_file  # If original file name had extras, try-except blocks would remove them\n",
    "\n",
    "        # Look up art\n",
    "        try:\n",
    "            versions = art[name]\n",
    "        except KeyError:\n",
    "            print(f\"Art not found for: {name}\")\n",
    "            continue\n",
    "        \n",
    "        # Process one to many tuples of (artist, set_code) associated with card name\n",
    "        if len(versions) == 1:\n",
    "            artist, set_code = versions[0]\n",
    "            new_file_name = f\"{name} ({artist}, {set_code}){' [' + frame_type + ']' if frame_type else ''}.{file_extension}\"\n",
    "            os.rename(f\"{typed_proxy_folder}/{original_proxy_file}\", f\"{destination_folder}/{new_file_name}\")\n",
    "        else:\n",
    "            print(f\"Multiple versions found: {versions}\")\n",
    "            continue"
   ]
  },
  {
   "cell_type": "markdown",
   "metadata": {},
   "source": [
    "# Debug Commands"
   ]
  },
  {
   "cell_type": "markdown",
   "metadata": {},
   "source": [
    "## Save card info to `card.json`"
   ]
  },
  {
   "cell_type": "code",
   "execution_count": null,
   "metadata": {},
   "outputs": [],
   "source": [
    "from scripts import get_card_info\n",
    "\n",
    "args = \"\\\"Angelic Accord\\\" \\\"M14\\\"\"\n",
    "get_card_info.main(args)"
   ]
  },
  {
   "cell_type": "markdown",
   "metadata": {},
   "source": [
    "## Scryfall"
   ]
  },
  {
   "cell_type": "markdown",
   "metadata": {},
   "source": [
    "### Get multiple cards"
   ]
  },
  {
   "cell_type": "code",
   "execution_count": null,
   "metadata": {},
   "outputs": [],
   "source": [
    "from lib.helpers import scryfall_helpers\n",
    "\n",
    "queries = [\n",
    "    \"Crucible of Worlds\",\n",
    "]\n",
    "\n",
    "for q in queries:\n",
    "    cards = scryfall_helpers.get_matched_cards(q)\n",
    "    [print(f\"\\t{repr(c)}\") for c in cards]"
   ]
  },
  {
   "cell_type": "markdown",
   "metadata": {},
   "source": [
    "### Get single card"
   ]
  },
  {
   "cell_type": "code",
   "execution_count": null,
   "metadata": {},
   "outputs": [],
   "source": [
    "from lib.helpers import scryfall_helpers\n",
    "\n",
    "queries = [\n",
    "    (\"Crucible of Worlds\", \"5DN\")\n",
    "]\n",
    "\n",
    "for name, set_code in queries:\n",
    "    card = scryfall_helpers.get_named_card(name, set_code)\n",
    "    print(repr(card))"
   ]
  },
  {
   "cell_type": "markdown",
   "metadata": {},
   "source": [
    "## MTGPICS.com"
   ]
  },
  {
   "cell_type": "markdown",
   "metadata": {},
   "source": [
    "### Find `gamerid`"
   ]
  },
  {
   "cell_type": "code",
   "execution_count": null,
   "metadata": {},
   "outputs": [],
   "source": [
    "from lib.helpers import mtgpics_helpers\n",
    "\n",
    "queries = [\n",
    "    \"Crucible of Worlds\",\n",
    "]\n",
    "\n",
    "for q in queries:\n",
    "    card_name, gamerid = mtgpics_helpers.get_gamerid(q)\n",
    "    print(f\"Found id [{gamerid}] for [{card_name}]\")"
   ]
  },
  {
   "cell_type": "markdown",
   "metadata": {},
   "source": [
    "### Find image versions by `gamerid`"
   ]
  },
  {
   "cell_type": "code",
   "execution_count": null,
   "metadata": {},
   "outputs": [],
   "source": [
    "from lib.helpers import mtgpics_helpers\n",
    "\n",
    "to_find = \"Crucible of Worlds\"\n",
    "card_name, gamerid = to_find, mtgpics_helpers.get_gamerid(to_find)\n",
    "versions = mtgpics_helpers.find_all_art_versions(card_name, gamerid)\n",
    "versions"
   ]
  },
  {
   "cell_type": "markdown",
   "metadata": {},
   "source": [
    "## Misc"
   ]
  },
  {
   "cell_type": "code",
   "execution_count": null,
   "metadata": {},
   "outputs": [],
   "source": [
    "all([v in \"abc\" for v in [\"a\", \"x\"]])"
   ]
  },
  {
   "cell_type": "code",
   "execution_count": 23,
   "metadata": {},
   "outputs": [],
   "source": [
    "!pip freeze > requirements.txt"
   ]
  }
 ],
 "metadata": {
  "kernelspec": {
   "display_name": "env",
   "language": "python",
   "name": "python3"
  },
  "language_info": {
   "codemirror_mode": {
    "name": "ipython",
    "version": 3
   },
   "file_extension": ".py",
   "mimetype": "text/x-python",
   "name": "python",
   "nbconvert_exporter": "python",
   "pygments_lexer": "ipython3",
   "version": "3.7.7"
  },
  "orig_nbformat": 4,
  "vscode": {
   "interpreter": {
    "hash": "15c7ff3fcc4aa4047bf6eca4e66b55cd0ecda7020ad54c7fc1b31e83da224f91"
   }
  }
 },
 "nbformat": 4,
 "nbformat_minor": 2
}
